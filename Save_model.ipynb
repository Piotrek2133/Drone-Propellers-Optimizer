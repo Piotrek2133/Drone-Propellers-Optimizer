{
 "cells": [
  {
   "cell_type": "code",
   "execution_count": 30,
   "metadata": {},
   "outputs": [],
   "source": [
    "import numpy as np\n",
    "import pandas as pd \n",
    "import os\n",
    "from sklearn.model_selection import train_test_split\n",
    "from sklearn.tree import DecisionTreeRegressor\n",
    "from sklearn.metrics import mean_absolute_error, mean_squared_error, r2_score\n",
    "from tabulate import tabulate\n",
    "import pickle\n",
    "import random"
   ]
  },
  {
   "cell_type": "code",
   "execution_count": 2,
   "metadata": {},
   "outputs": [],
   "source": [
    "input_keys = ['B', 'D', 'P', 'J', 'N', 'c/R', 'r/R', 'beta']\n",
    "output_keys = ['CT', 'CP', 'eta']"
   ]
  },
  {
   "cell_type": "code",
   "execution_count": 26,
   "metadata": {},
   "outputs": [],
   "source": [
    "# Create geometric dataframe\n",
    "path = ''\n",
    "# Directories of performance data\n",
    "geom1_dir = os.path.join(path, 'volume1_geom.csv')\n",
    "geom2_dir = os.path.join(path, 'volume2_geom.csv')\n",
    "geom3_dir = os.path.join(path, 'volume3_geom.csv')\n",
    "\n",
    "# Geometric data from volume 1 to volume 3\n",
    "geom1_df = pd.read_csv(geom1_dir)\n",
    "geom2_df = pd.read_csv(geom2_dir)\n",
    "geom3_df = pd.read_csv(geom3_dir)\n",
    "\n",
    "# Merge them into 1 geom dataframe\n",
    "geom_df = pd.concat([geom1_df, geom2_df, geom3_df], ignore_index=True)"
   ]
  },
  {
   "cell_type": "code",
   "execution_count": 27,
   "metadata": {},
   "outputs": [],
   "source": [
    "# Create performance dataframe\n",
    "# Directories of performance data\n",
    "perf1_dir = os.path.join(path, 'volume1_exp.csv')\n",
    "perf2_dir = os.path.join(path, 'volume2_exp.csv')\n",
    "perf3_dir = os.path.join(path, 'volume3_exp.csv')\n",
    "\n",
    "# Performance data from volume 1 to volume 3\n",
    "perf1_df = pd.read_csv(perf1_dir)\n",
    "perf2_df = pd.read_csv(perf2_dir)\n",
    "perf3_df = pd.read_csv(perf3_dir)\n",
    "\n",
    "# Merge them into 1 perf dataframe\n",
    "perf_df = pd.concat([perf1_df, perf2_df, perf3_df], ignore_index=True)"
   ]
  },
  {
   "cell_type": "code",
   "execution_count": 28,
   "metadata": {},
   "outputs": [],
   "source": [
    "# Create df dataframe\n",
    "df = perf_df.merge(geom_df, on=['BladeName', 'D', 'P', 'Family'])"
   ]
  },
  {
   "cell_type": "code",
   "execution_count": 29,
   "metadata": {},
   "outputs": [],
   "source": [
    "df.to_csv(\"full_data.csv\", sep = ',', index=False,encoding='utf-8')"
   ]
  },
  {
   "cell_type": "code",
   "execution_count": 6,
   "metadata": {},
   "outputs": [],
   "source": [
    "# Split df into X and y\n",
    "X = df[input_keys].values\n",
    "y = df[output_keys].values"
   ]
  },
  {
   "cell_type": "code",
   "execution_count": 8,
   "metadata": {},
   "outputs": [],
   "source": [
    "X_train, X_test, y_train, y_test = train_test_split(X, y, test_size=0.2, random_state=42) "
   ]
  },
  {
   "cell_type": "code",
   "execution_count": 9,
   "metadata": {},
   "outputs": [],
   "source": [
    "model = DecisionTreeRegressor()"
   ]
  },
  {
   "cell_type": "code",
   "execution_count": 10,
   "metadata": {},
   "outputs": [
    {
     "data": {
      "text/plain": [
       "DecisionTreeRegressor()"
      ]
     },
     "execution_count": 10,
     "metadata": {},
     "output_type": "execute_result"
    }
   ],
   "source": [
    "model.fit(X_train, y_train)"
   ]
  },
  {
   "cell_type": "code",
   "execution_count": 11,
   "metadata": {},
   "outputs": [],
   "source": [
    "y_pred = model.predict(X_test)"
   ]
  },
  {
   "cell_type": "code",
   "execution_count": 31,
   "metadata": {},
   "outputs": [
    {
     "name": "stdout",
     "output_type": "stream",
     "text": [
      "+----------+-------------+\n",
      "| Metric   |       Value |\n",
      "+==========+=============+\n",
      "| mae      | 0.000436207 |\n",
      "+----------+-------------+\n",
      "| mse      | 0.000169587 |\n",
      "+----------+-------------+\n",
      "| R²       | 0.9979      |\n",
      "+----------+-------------+\n"
     ]
    }
   ],
   "source": [
    "mae = mean_absolute_error(y_test, y_pred)\n",
    "mse = mean_squared_error(y_test, y_pred)\n",
    "r2 = r2_score(y_test, y_pred)\n",
    "data = [['mae', mae], ['mse', mse], ['R²', r2]]\n",
    "header = ['Metric', 'Value']\n",
    "error_tab = tabulate(data, header, tablefmt='grid')\n",
    "print(error_tab)"
   ]
  },
  {
   "cell_type": "code",
   "execution_count": 18,
   "metadata": {},
   "outputs": [],
   "source": [
    "# Save model\n",
    "filename = \"model.sav\"\n",
    "pickle.dump(model, open(filename, 'wb'))"
   ]
  },
  {
   "cell_type": "code",
   "execution_count": null,
   "metadata": {},
   "outputs": [],
   "source": []
  }
 ],
 "metadata": {
  "kernelspec": {
   "display_name": "base",
   "language": "python",
   "name": "python3"
  },
  "language_info": {
   "codemirror_mode": {
    "name": "ipython",
    "version": 3
   },
   "file_extension": ".py",
   "mimetype": "text/x-python",
   "name": "python",
   "nbconvert_exporter": "python",
   "pygments_lexer": "ipython3",
   "version": "3.9.12"
  }
 },
 "nbformat": 4,
 "nbformat_minor": 2
}
