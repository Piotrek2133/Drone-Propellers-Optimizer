{
 "cells": [
  {
   "cell_type": "code",
   "execution_count": 2,
   "metadata": {},
   "outputs": [
    {
     "name": "stdout",
     "output_type": "stream",
     "text": [
      "Downloading from https://www.kaggle.com/api/v1/datasets/download/heitornunes/uiuc-propeller-database?dataset_version_number=1...\n"
     ]
    },
    {
     "name": "stderr",
     "output_type": "stream",
     "text": [
      "100%|██████████| 376k/376k [00:00<00:00, 936kB/s]"
     ]
    },
    {
     "name": "stdout",
     "output_type": "stream",
     "text": [
      "Extracting files...\n",
      "Path to dataset files: C:\\Users\\Piotr\\.cache\\kagglehub\\datasets\\heitornunes\\uiuc-propeller-database\\versions\\1\n"
     ]
    },
    {
     "name": "stderr",
     "output_type": "stream",
     "text": [
      "\n"
     ]
    }
   ],
   "source": [
    "import kagglehub\n",
    "\n",
    "# Download latest version\n",
    "path = kagglehub.dataset_download(\"heitornunes/uiuc-propeller-database\")\n",
    "\n",
    "print(\"Path to dataset files:\", path)"
   ]
  },
  {
   "cell_type": "code",
   "execution_count": 7,
   "metadata": {},
   "outputs": [],
   "source": [
    "import numpy as np\n",
    "import pandas as pd \n",
    "import os"
   ]
  },
  {
   "cell_type": "code",
   "execution_count": null,
   "metadata": {},
   "outputs": [],
   "source": [
    "from sklearn.model_selection import train_test_split\n",
    "\n",
    "class DataCreator:\n",
    "    def __init__(self, target_key):\n",
    "        self.path = ''\n",
    "        self.input_keys = ['B', 'D', 'P', 'J', 'N', 'c/R', 'r/R', 'beta']\n",
    "        self.output_keys = ['CT', 'CP', 'eta']\n",
    "        self.target_key = target_key\n",
    "        \n",
    "    # Create geometric dataframe\n",
    "    def geom_data(self):\n",
    "        # Directories of geometric data\n",
    "        geom1_dir = os.path.join(self.path, 'volume1_geom.csv')\n",
    "        geom2_dir = os.path.join(self.path, 'volume2_geom.csv')\n",
    "        geom3_dir = os.path.join(self.path, 'volume3_geom.csv')\n",
    "        \n",
    "        # Geometric data from volume 1 to volume 3\n",
    "        geom1_df = pd.read_csv(geom1_dir)\n",
    "        geom2_df = pd.read_csv(geom2_dir)\n",
    "        geom3_df = pd.read_csv(geom3_dir)\n",
    "        \n",
    "        # Merge them into 1 geom dataframe\n",
    "        geom_df = pd.concat([geom1_df, geom2_df, geom3_df], ignore_index=True)\n",
    "        \n",
    "        return geom_df\n",
    "    \n",
    "    # Create performance dataframe\n",
    "    def perf_data(self):\n",
    "        # Directories of performance data\n",
    "        perf1_dir = os.path.join(self.path, 'volume1_exp.csv')\n",
    "        perf2_dir = os.path.join(self.path, 'volume2_exp.csv')\n",
    "        perf3_dir = os.path.join(self.path, 'volume3_exp.csv')\n",
    "        \n",
    "        # Performance data from volume 1 to volume 3\n",
    "        perf1_df = pd.read_csv(perf1_dir)\n",
    "        perf2_df = pd.read_csv(perf2_dir)\n",
    "        perf3_df = pd.read_csv(perf3_dir)\n",
    "        \n",
    "        # Merge them into 1 perf dataframe\n",
    "        perf_df = pd.concat([perf1_df, perf2_df, perf3_df], ignore_index=True)\n",
    "        \n",
    "        return perf_df\n",
    "    \n",
    "    # Create df dataframe\n",
    "    def df(self):\n",
    "        geom_df = self.geom_data()\n",
    "        perf_df = self.perf_data()\n",
    "        df = perf_df.merge(geom_df, on=['BladeName', 'D', 'P', 'Family'])\n",
    "        return df\n",
    "    \n",
    "    # Split df into X and y\n",
    "    def X_y(self):\n",
    "        df = self.df()\n",
    "        X = df[self.input_keys].values\n",
    "        y = df[self.output_keys].values\n",
    "        return X, y\n",
    "    \n",
    "    # Chose the y target\n",
    "    def target_y(self):\n",
    "        __, y = self.X_y()\n",
    "        return y[:, self.output_keys.index(self.target_key)]\n",
    "    \n",
    "    # Split X and y into train and test data\n",
    "    def train_test(self):\n",
    "        X, __ = self.X_y()\n",
    "        y = self.target_y()\n",
    "        X_train, X_test, y_train, y_test = train_test_split(X, y, test_size=0.2, random_state=42) \n",
    "        \n",
    "        return X_train, X_test, y_train, y_test"
   ]
  },
  {
   "cell_type": "code",
   "execution_count": null,
   "metadata": {},
   "outputs": [],
   "source": [
    "from sklearn.tree import DecisionTreeRegressor\n",
    "from sklearn.metrics import mean_absolute_error, mean_squared_error\n",
    "from tabulate import tabulate\n",
    "import random\n",
    "import matplotlib.pyplot as plt\n",
    "class DTR:\n",
    "    def __init__(self, target_key, degree=1):\n",
    "        self.target_key = target_key\n",
    "        self.input_keys = DataCreator(target_key=self.target_key).input_keys\n",
    "        self.output_keys = DataCreator(target_key=self.target_key).output_keys\n",
    "    # X and y\n",
    "    def X_y(self):\n",
    "        X_train, X_test, y_train, y_test = DataCreator(target_key = self.target_key).train_test()\n",
    "        return X_train, X_test, y_train, y_test\n",
    "    # Model \n",
    "    def model(self):\n",
    "        model = DecisionTreeRegressor()\n",
    "        return model\n",
    "    # Fitting the model\n",
    "    def fitter(self):\n",
    "        model = self.model()\n",
    "        X_train, __, y_train, __ = self.X_y()\n",
    "        model.fit(X_train, y_train)\n",
    "        return model\n",
    "    # Making a prediction\n",
    "    def pred(self):\n",
    "        model = self.fitter()\n",
    "        __, X_test, __, __ = self.X_y()\n",
    "        y_pred = model.predict(X_test)\n",
    "        return y_pred\n",
    "    # Calculate the error\n",
    "    def error(self):\n",
    "        __, __, __, y_true = self.X_y()\n",
    "        y_pred = self.pred()\n",
    "        mae = mean_absolute_error(y_true, y_pred)\n",
    "        mse = mean_squared_error(y_true, y_pred)\n",
    "        data = [['mae', mae], ['mse', mse]]\n",
    "        header = ['Metric', 'Value']\n",
    "        error_tab = tabulate(data, header, tablefmt='grid')\n",
    "        return error_tab\n",
    "    # Plotting error table\n",
    "    def err_tab(self):\n",
    "        error_tab = self.error()\n",
    "        print(error_tab)\n",
    "    # Chose propeller randomly\n",
    "    def prop_data(self):\n",
    "        while True:\n",
    "            df = DataCreator(target_key=self.target_key).df()\n",
    "            random_prop_name = random.choice(df['PropName'])\n",
    "            df = df[df['PropName'] == random_prop_name]\n",
    "            random_rpm = random.choice(list(df['N']))\n",
    "            df = df[df['N'] == random_rpm]\n",
    "            y_true = df[self.target_key]\n",
    "            model = self.fitter()\n",
    "            y_pred = model.predict(df[self.input_keys].values)\n",
    "            adv = df['J']\n",
    "            if sum(adv) != 0:\n",
    "                return adv, y_true, y_pred\n",
    "    # Plot some results\n",
    "    def plotter(self):\n",
    "        adv, y_true, y_pred = self.prop_data()\n",
    "        plt.plot(adv, y_true, 'og', label='Actual')\n",
    "        plt.plot(adv, y_pred, '-r', label='Predicted')\n",
    "        plt.legend()\n",
    "        plt.show()"
   ]
  },
  {
   "cell_type": "code",
   "execution_count": 12,
   "metadata": {},
   "outputs": [
    {
     "name": "stdout",
     "output_type": "stream",
     "text": [
      "+----------+-------------+\n",
      "| Metric   |       Value |\n",
      "+==========+=============+\n",
      "| mae      | 0.000131009 |\n",
      "+----------+-------------+\n",
      "| mse      | 1.66098e-06 |\n",
      "+----------+-------------+\n"
     ]
    }
   ],
   "source": [
    "DTR(target_key='CP').err_tab()"
   ]
  },
  {
   "cell_type": "code",
   "execution_count": 14,
   "metadata": {},
   "outputs": [
    {
     "data": {
      "image/png": "[encoded data removed]",
      "text/plain": [
       "<Figure size 432x288 with 1 Axes>"
      ]
     },
     "metadata": {
      "needs_background": "light"
     },
     "output_type": "display_data"
    }
   ],
   "source": [
    "DTR(target_key='CP').plotter()"
   ]
  },
  {
   "cell_type": "code",
   "execution_count": null,
   "metadata": {},
   "outputs": [],
   "source": []
  }
 ],
 "metadata": {
  "kernelspec": {
   "display_name": "base",
   "language": "python",
   "name": "python3"
  },
  "language_info": {
   "codemirror_mode": {
    "name": "ipython",
    "version": 3
   },
   "file_extension": ".py",
   "mimetype": "text/x-python",
   "name": "python",
   "nbconvert_exporter": "python",
   "pygments_lexer": "ipython3",
   "version": "3.9.12"
  }
 },
 "nbformat": 4,
 "nbformat_minor": 2
}
