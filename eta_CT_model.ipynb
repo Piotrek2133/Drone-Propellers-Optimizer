{
 "cells": [
  {
   "cell_type": "code",
   "execution_count": 1,
   "metadata": {},
   "outputs": [],
   "source": [
    "import pandas as pd\n",
    "import numpy as np\n",
    "from sklearn.model_selection import train_test_split\n",
    "from sklearn.preprocessing import MinMaxScaler"
   ]
  },
  {
   "cell_type": "code",
   "execution_count": 55,
   "metadata": {},
   "outputs": [
    {
     "name": "stderr",
     "output_type": "stream",
     "text": [
      "C:\\Users\\Piotr\\AppData\\Local\\Temp\\ipykernel_38112\\1040886736.py:32: FutureWarning: DataFrame.applymap has been deprecated. Use DataFrame.map instead.\n",
      "  X_array = final_df[['c/R', 'r/R', 'beta']].applymap(np.array)  # Convert lists to arrays\n"
     ]
    },
    {
     "name": "stdout",
     "output_type": "stream",
     "text": [
      "X_train shape: (8567, 59)\n",
      "X_test shape: (952, 59)\n",
      "y_train shape: (8567,)\n",
      "y_test shape: (952,)\n"
     ]
    }
   ],
   "source": [
    "import pandas as pd\n",
    "import numpy as np\n",
    "from sklearn.model_selection import train_test_split\n",
    "\n",
    "# Load the geometry and experimental data files\n",
    "# geom_df1 = pd.read_csv('volume1_geom.csv') \n",
    "# exp_df1 = pd.read_csv('volume1_exp.csv')   \n",
    "# geom_df2 = pd.read_csv('volume1_geom.csv') \n",
    "# exp_df2 = pd.read_csv('volume1_exp.csv')   \n",
    "# geom_df3 = pd.read_csv('volume1_geom.csv') \n",
    "# exp_df3 = pd.read_csv('volume1_exp.csv')    \n",
    "\n",
    "geom_df = pd.read_csv('volume1_geom.csv') \n",
    "exp_df = pd.read_csv('volume1_exp.csv')   \n",
    "# geom_df = pd.concat([geom_df1, geom_df2, geom_df3], ignore_index=True)\n",
    "# exp_df = pd.concat([exp_df1, exp_df2, exp_df3], ignore_index=True)\n",
    "# Merge the geometry and experimental data on the 'BladeName' column\n",
    "# merged_df = pd.merge(exp_df, geom_df, on='BladeName')\n",
    "\n",
    "# Group the geometric parameters (c/R, r/R, beta) by BladeName\n",
    "geometry_grouped = geom_df.groupby(['BladeName', 'D', 'P', 'Family']).agg({\n",
    "    'c/R': list,\n",
    "    'r/R': list,\n",
    "    'beta': list\n",
    "}).reset_index()\n",
    "\n",
    "# Merge the grouped geometric data back with the experimental data\n",
    "final_df = pd.merge(exp_df, geometry_grouped, on=['BladeName', 'D', 'P', 'Family'])\n",
    "\n",
    "# Extract scalar and array features\n",
    "X_scalar = final_df[['B', 'D', 'P', 'J', 'N']]\n",
    "X_array = final_df[['c/R', 'r/R', 'beta']].applymap(np.array)  # Convert lists to arrays\n",
    "y = final_df['eta']  # Target variable\n",
    "\n",
    "# Determine the maximum lengths of array features for padding\n",
    "max_len_c = max(len(arr) for arr in X_array['c/R'])\n",
    "max_len_r = max(len(arr) for arr in X_array['r/R'])\n",
    "max_len_beta = max(len(arr) for arr in X_array['beta'])\n",
    "\n",
    "# Function to pad arrays with zeros to ensure uniform length\n",
    "def pad_array(array, max_len):\n",
    "    return np.pad(array, (0, max_len - len(array)), mode='constant')\n",
    "\n",
    "# Pad each array feature separately\n",
    "X_c_padded = np.array([pad_array(arr, max_len_c) for arr in X_array['c/R']])\n",
    "X_r_padded = np.array([pad_array(arr, max_len_r) for arr in X_array['r/R']])\n",
    "X_beta_padded = np.array([pad_array(arr, max_len_beta) for arr in X_array['beta']])\n",
    "\n",
    "# Combine scalar and array features into a single feature matrix\n",
    "X_combined = np.hstack([X_scalar, X_r_padded, X_c_padded, X_beta_padded])\n",
    "\n",
    "# Split data into training and test sets\n",
    "X_train, X_test, y_train, y_test = train_test_split(X_combined, y, test_size=0.1, random_state=42)\n",
    "\n",
    "# Display the shapes of the training and test sets\n",
    "print(f\"X_train shape: {X_train.shape}\")\n",
    "print(f\"X_test shape: {X_test.shape}\")\n",
    "print(f\"y_train shape: {y_train.shape}\")\n",
    "print(f\"y_test shape: {y_test.shape}\")\n"
   ]
  },
  {
   "cell_type": "code",
   "execution_count": 67,
   "metadata": {},
   "outputs": [
    {
     "data": {
      "text/plain": [
       "(8567, 59)"
      ]
     },
     "execution_count": 67,
     "metadata": {},
     "output_type": "execute_result"
    }
   ],
   "source": [
    "X_train.shape"
   ]
  },
  {
   "cell_type": "code",
   "execution_count": 57,
   "metadata": {},
   "outputs": [
    {
     "data": {
      "text/plain": [
       "[0.15,\n",
       " 0.2,\n",
       " 0.25,\n",
       " 0.3,\n",
       " 0.35,\n",
       " 0.4,\n",
       " 0.45,\n",
       " 0.5,\n",
       " 0.55,\n",
       " 0.6,\n",
       " 0.65,\n",
       " 0.7,\n",
       " 0.75,\n",
       " 0.8,\n",
       " 0.85,\n",
       " 0.9,\n",
       " 0.95,\n",
       " 1.0]"
      ]
     },
     "execution_count": 57,
     "metadata": {},
     "output_type": "execute_result"
    }
   ],
   "source": [
    "geometry_grouped['r/R'][0]"
   ]
  },
  {
   "cell_type": "code",
   "execution_count": 58,
   "metadata": {},
   "outputs": [
    {
     "name": "stdout",
     "output_type": "stream",
     "text": [
      "Test Mean Absolute Error: 0.0602\n",
      "Test Root Mean Squared Error: 0.2403\n",
      "R2 squared: 0.8220\n"
     ]
    }
   ],
   "source": [
    "from sklearn.tree import DecisionTreeRegressor\n",
    "from sklearn.metrics import mean_absolute_error, root_mean_squared_error, r2_score\n",
    "\n",
    "# Define the Decision Tree Regressor model\n",
    "dt_model = DecisionTreeRegressor(random_state=42)\n",
    "\n",
    "# Train the model on the training set\n",
    "dt_model.fit(X_train, y_train)\n",
    "\n",
    "# Evaluate the model on the test set\n",
    "y_pred = dt_model.predict(X_test)\n",
    "mae = mean_absolute_error(y_test, y_pred)\n",
    "rmse = root_mean_squared_error(y_test, y_pred)\n",
    "r2 = r2_score(y_test, y_pred)\n",
    "\n",
    "print(f'Test Mean Absolute Error: {mae:.4f}')\n",
    "print(f'Test Root Mean Squared Error: {rmse:.4f}')\n",
    "print(f'R2 squared: {r2:.4f}')\n"
   ]
  },
  {
   "cell_type": "code",
   "execution_count": 60,
   "metadata": {},
   "outputs": [],
   "source": [
    "import pickle\n",
    "# Save model\n",
    "filename = \"model_new_J.sav\"\n",
    "pickle.dump(dt_model, open(filename, 'wb'))"
   ]
  }
 ],
 "metadata": {
  "kernelspec": {
   "display_name": "base",
   "language": "python",
   "name": "python3"
  },
  "language_info": {
   "codemirror_mode": {
    "name": "ipython",
    "version": 3
   },
   "file_extension": ".py",
   "mimetype": "text/x-python",
   "name": "python",
   "nbconvert_exporter": "python",
   "pygments_lexer": "ipython3",
   "version": "3.12.7"
  }
 },
 "nbformat": 4,
 "nbformat_minor": 2
}
